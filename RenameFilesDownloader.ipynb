{
 "cells": [
  {
   "cell_type": "code",
   "execution_count": 119,
   "metadata": {
    "collapsed": true
   },
   "outputs": [],
   "source": [
    "import os"
   ]
  },
  {
   "cell_type": "code",
   "execution_count": 120,
   "metadata": {},
   "outputs": [],
   "source": [
    "paths = (os.path.join(root, filename)\n",
    "        for root, _, filenames in os.walk('D:\\Downloader')\n",
    "        for filename in filenames)"
   ]
  },
  {
   "cell_type": "code",
   "execution_count": 121,
   "metadata": {},
   "outputs": [],
   "source": [
    "for path in paths:\n",
   
    "    newname1 = path.replace(' (1080p_30fps_H264-128kbit_AAC)', '')\n",
    "    newname2 = path.replace(' (720p_30fps_H264-192kbit_AAC)', '')\n",
    "    newname3 = path.replace(' (1080p_25fps_H264-128kbit_AAC)', '')\n",
    "    newname4 = path.replace(' (1080p_25fps_H264-128kbit_AAC)', '')\n",
    "    newname5 = path.replace(' (960p_30fps_H264-128kbit_AAC)', '')\n",
    "    newname6 = path.replace(' (720p_44fps_H264-128kbit_AAC)', '')\n",
    "    newname7 = path.replace(' (720p_45fps_H264-128kbit_AAC)', '')\n",
    "    newname8 = path.replace(' (360p_30fps_H264-128kbit_AAC)', '')\n",
    "    newname9 = path.replace(' (720p_46fps_H264-128kbit_AAC)', '')\n",
    "    newname10 = path.replace('(720p_48fps_H264-128kbit_AAC)', '')\n",
    "    newname11 = path.replace('(720p_43fps_H264-128kbit_AAC)', '')\n",
    "    if newname1 != path:\n",
    "        os.rename(path, newname1)\n",
    "    if newname2 != path:\n",
    "        os.rename(path, newname2)\n",
    "    if newname3 != path:\n",
    "        os.rename(path, newname3)\n",
    "    if newname4 != path:\n",
    "        os.rename(path, newname4)\n",
    "    if newname5 != path:\n",
    "        os.rename(path, newname5)\n",
    "    if newname6 != path:\n",
    "        os.rename(path, newname6)\n",
    "    if newname7 != path:\n",
    "        os.rename(path, newname7)\n",
    "    if newname9 != path:\n",
    "        os.rename(path, newname9)\n",
    "    if newname10 != path:\n",
    "        os.rename(path, newname10)\n",
    "    if newname11 != path:\n",
    "        os.rename(path, newname11)"
   ]
  },
  {
   "cell_type": "code",
   "execution_count": null,
   "metadata": {
    "collapsed": true
   },
   "outputs": [],
   "source": []
  }
 ],
 "metadata": {
  "kernelspec": {
   "display_name": "Python 3",
   "language": "python",
   "name": "python3"
  },
  "language_info": {
   "codemirror_mode": {
    "name": "ipython",
    "version": 3
   },
   "file_extension": ".py",
   "mimetype": "text/x-python",
   "name": "python",
   "nbconvert_exporter": "python",
   "pygments_lexer": "ipython3",
   "version": "3.6.3"
  }
 },
 "nbformat": 4,
 "nbformat_minor": 2
}
