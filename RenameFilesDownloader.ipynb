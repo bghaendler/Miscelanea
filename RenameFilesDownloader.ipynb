{
 "cells": [
  {
   "cell_type": "code",
   "execution_count": 75,
   "metadata": {
    "collapsed": true
   },
   "outputs": [],
   "source": [
    "import os"
   ]
  },
  {
   "cell_type": "code",
   "execution_count": 76,
   "metadata": {},
   "outputs": [],
   "source": [
    "paths = (os.path.join(root, filename)\n",
    "        for root, _, filenames in os.walk('D:\\Downloader\\Machine Learning (Coursera)')\n",
    "        for filename in filenames)"
   ]
  },
  {
   "cell_type": "code",
   "execution_count": 77,
   "metadata": {},
   "outputs": [
    {
     "name": "stdout",
     "output_type": "stream",
     "text": [
      "D:\\Downloader\\Machine Learning (Coursera)\\Lecture 1.1 - Introduction What Is Machine Learning.mp4\n",
      "D:\\Downloader\\Machine Learning (Coursera)\\Lecture 1.2 - Introduction Supervised Learning.mp4\n",
      "D:\\Downloader\\Machine Learning (Coursera)\\Lecture 1.3 - Introduction Unsupervised Learning.mp4\n",
      "D:\\Downloader\\Machine Learning (Coursera)\\Lecture 10.1 - Advice For Applying Machine Learning - Deciding What To Try Next.mp4\n",
      "D:\\Downloader\\Machine Learning (Coursera)\\Lecture 10.2 - Advice For Applying Machine Learning - Evaluating A Hypothesis.mp4\n",
      "D:\\Downloader\\Machine Learning (Coursera)\\Lecture 10.3 - Advice For Applying Machine Learning - Model Selection And Train Validation Test Sets.mp4\n",
      "D:\\Downloader\\Machine Learning (Coursera)\\Lecture 10.4 - Advice For Applying Machine Learning - Diagnosing Bias Vs Variance.mp4\n",
      "D:\\Downloader\\Machine Learning (Coursera)\\Lecture 10.5 - Advice For Applying Machine Learning - Regularization And Bias Variance.mp4\n",
      "D:\\Downloader\\Machine Learning (Coursera)\\Lecture 10.6 - Advice For Applying Machine Learning - Learning Curves.mp4\n",
      "D:\\Downloader\\Machine Learning (Coursera)\\Lecture 10.7 - Advice For Applying Machine Learning - Deciding What To Do Next (Revisited).mp4\n",
      "D:\\Downloader\\Machine Learning (Coursera)\\Lecture 11.1 - Machine Learning System Design - Prioritizing What To Work On.mp4\n",
      "D:\\Downloader\\Machine Learning (Coursera)\\Lecture 11.2 - Machine Learning System Design - Error Analysis.mp4\n",
      "D:\\Downloader\\Machine Learning (Coursera)\\Lecture 11.3 - Machine Learning System Design - Error Metrics For Skewed Classes.mp4\n",
      "D:\\Downloader\\Machine Learning (Coursera)\\Lecture 11.4 - Machine Learning System Design - Trading Off Precision And Recall.mp4\n",
      "D:\\Downloader\\Machine Learning (Coursera)\\Lecture 11.5 - Machine Learning System Design - Data For Machine Learning.mp4\n",
      "D:\\Downloader\\Machine Learning (Coursera)\\Lecture 12.1 -  Support Vector Machines - Optimization Objective.mp4\n",
      "D:\\Downloader\\Machine Learning (Coursera)\\Lecture 12.2 - Support Vector Machines - Large Margin Intuition - [Machine Learning].mp4\n",
      "D:\\Downloader\\Machine Learning (Coursera)\\Lecture 12.3 - Support Vector Machines - Mathematics Behind Large Margin Classification (Optional).mp4\n",
      "D:\\Downloader\\Machine Learning (Coursera)\\Lecture 12.4 - Support Vector Machines - (Kernels-I).mp4\n",
      "D:\\Downloader\\Machine Learning (Coursera)\\Lecture 12.5 - Support Vector Machines - (Kernels-II) - [Machine Learning].mp4\n",
      "D:\\Downloader\\Machine Learning (Coursera)\\Lecture 12.6 - Support Vector Machines - Using An SVM.mp4\n",
      "D:\\Downloader\\Machine Learning (Coursera)\\Lecture 13.1 -  Clustering - Unsupervised Learning - Introduction.mp4\n",
      "D:\\Downloader\\Machine Learning (Coursera)\\Lecture 13.2 -  Clustering - KMeans Algorithm.mp4\n",
      "D:\\Downloader\\Machine Learning (Coursera)\\Lecture 13.3 -  Clustering - Optimization Objective.mp4\n",
      "D:\\Downloader\\Machine Learning (Coursera)\\Lecture 13.4 -  Clustering - Random Initialization.mp4\n",
      "D:\\Downloader\\Machine Learning (Coursera)\\Lecture 13.5 -  Clustering - Choosing The Number Of Clusters.mp4\n",
      "D:\\Downloader\\Machine Learning (Coursera)\\Lecture 14.1 - Dimensionality Reduction Motivation I - Data Compression.mp4\n",
      "D:\\Downloader\\Machine Learning (Coursera)\\Lecture 14.2 - Dimensionality Reduction Motivation II  - Visualization.mp4\n",
      "D:\\Downloader\\Machine Learning (Coursera)\\Lecture 14.3 - Dimensionality Reduction - Principal Component Analysis - Problem Formulation.mp4\n",
      "D:\\Downloader\\Machine Learning (Coursera)\\Lecture 14.4 -  Dimensionality Reduction - Principal Component Analysis Algorithm.mp4\n",
      "D:\\Downloader\\Machine Learning (Coursera)\\Lecture 14.5 - Dimensionality Reduction - Choosing The Number Of Principal Components.mp4\n",
      "D:\\Downloader\\Machine Learning (Coursera)\\Lecture 14.6 - Dimensionality Reduction - Reconstruction From Compressed Representation.mp4\n",
      "D:\\Downloader\\Machine Learning (Coursera)\\Lecture 14.7 - Dimensionality Reduction - Advice For Applying PCA.mp4\n",
      "D:\\Downloader\\Machine Learning (Coursera)\\Lecture 15.1 - Anomaly Detection Problem - Motivation .mp4\n",
      "D:\\Downloader\\Machine Learning (Coursera)\\Lecture 15.2 - Anomaly Detection - Gaussian Distribution.mp4\n",
      "D:\\Downloader\\Machine Learning (Coursera)\\Lecture 15.3 - Anomaly Detection Algorithm.mp4\n",
      "D:\\Downloader\\Machine Learning (Coursera)\\Lecture 15.4 - Anomaly Detection - Developing And Evaluating An Anomaly Detection System.mp4\n",
      "D:\\Downloader\\Machine Learning (Coursera)\\Lecture 15.5 - Anomaly Detection - Anomaly Detection Vs Supervised Learning.mp4\n",
      "D:\\Downloader\\Machine Learning (Coursera)\\Lecture 15.6 - Anomaly Detection - Choosing What Features To Use.mp4\n",
      "D:\\Downloader\\Machine Learning (Coursera)\\Lecture 15.7 - Anomaly Detection - Multivariate Gaussian Distribution.mp4\n",
      "D:\\Downloader\\Machine Learning (Coursera)\\Lecture 15.8 - Anomaly Detection - Anomaly Detection Using The Multivariate Gaussian Distribution.mp4\n",
      "D:\\Downloader\\Machine Learning (Coursera)\\Lecture 16.1 -  Recommender Systems - Problem Formulation.mp4\n",
      "D:\\Downloader\\Machine Learning (Coursera)\\Lecture 16.2 -  Recommender Systems - Content Based Recommendations.mp4\n",
      "D:\\Downloader\\Machine Learning (Coursera)\\Lecture 16.3 -  Recommender Systems - Collaborative Filtering.mp4\n",
      "D:\\Downloader\\Machine Learning (Coursera)\\Lecture 16.4 -  Recommender Systems - Collaborative Filtering Algorithm.mp4\n",
      "D:\\Downloader\\Machine Learning (Coursera)\\Lecture 16.5 -  Recommender Systems - Vectorization Low Rank Matrix Factorization.mp4\n",
      "D:\\Downloader\\Machine Learning (Coursera)\\Lecture 16.6 -  Recommender Systems - Implementational Detail Mean Normalization.mp4\n",
      "D:\\Downloader\\Machine Learning (Coursera)\\Lecture 17.1 - Large Scale Machine Learning - Learning With Large Datasets.mp4\n",
      "D:\\Downloader\\Machine Learning (Coursera)\\Lecture 17.2 - Large Scale Machine Learning - Stochastic Gradient Descent.mp4\n",
      "D:\\Downloader\\Machine Learning (Coursera)\\Lecture 17.3 - Large Scale Machine Learning - Mini Batch Gradient Descent.mp4\n",
      "D:\\Downloader\\Machine Learning (Coursera)\\Lecture 17.4 - Large Scale Machine Learning - Stochastic Gradient Descent Convergence.mp4\n",
      "D:\\Downloader\\Machine Learning (Coursera)\\Lecture 17.5 - Large Scale Machine Learning - Online Learning.mp4\n",
      "D:\\Downloader\\Machine Learning (Coursera)\\Lecture 17.6 — Large Scale Machine Learning - Map Reduce And Data Parallelism — [ Andrew Ng ] (480p_15fps_H264-128kbit_AAC).mp4\n",
      "D:\\Downloader\\Machine Learning (Coursera)\\Lecture 18.1 - Application Example Photo OCR - Problem Description And Pipeline.mp4\n",
      "D:\\Downloader\\Machine Learning (Coursera)\\Lecture 18.2 - Application Example Photo OCR - Sliding Windows.mp4\n",
      "D:\\Downloader\\Machine Learning (Coursera)\\Lecture 18.3 - Application Example Photo OCR - Getting Lots Of Data Artificial Data Synthesis.mp4\n",
      "D:\\Downloader\\Machine Learning (Coursera)\\Lecture 18.4 - Application Example Photo OCR - Ceiling Analysis - What Part to Work On Next.mp4\n",
      "D:\\Downloader\\Machine Learning (Coursera)\\Lecture 19 - Conclusion Summary And ThankYou.mp4\n",
      "D:\\Downloader\\Machine Learning (Coursera)\\Lecture 2.1 - Linear Regression With One Variable - Model Representation.mp4\n",
      "D:\\Downloader\\Machine Learning (Coursera)\\Lecture 2.2 - Linear Regression With One Variable - CostFunction.mp4\n",
      "D:\\Downloader\\Machine Learning (Coursera)\\Lecture 2.3 - Linear Regression With One Variable - Cost Function Intuition #1.mp4\n",
      "D:\\Downloader\\Machine Learning (Coursera)\\Lecture 2.4 - Linear Regression With One Variable - Cost Function Intuition #2.mp4\n",
      "D:\\Downloader\\Machine Learning (Coursera)\\Lecture 2.5 - Linear Regression With One Variable - Gradient Descent.mp4\n",
      "D:\\Downloader\\Machine Learning (Coursera)\\Lecture 2.6 - Linear Regression With One Variable - Gradient Descent Intuition.mp4\n",
      "D:\\Downloader\\Machine Learning (Coursera)\\Lecture 2.7 - Linear Regression With One Variable - Gradient Descent For Linear Regression.mp4\n",
      "D:\\Downloader\\Machine Learning (Coursera)\\Lecture 2.8 - What's Next.mp4\n",
      "D:\\Downloader\\Machine Learning (Coursera)\\Lecture 3.1 - Linear Algebra Review - Matrices And Vectors.mp4\n",
      "D:\\Downloader\\Machine Learning (Coursera)\\Lecture 3.2 - Linear Algebra Review - Addition And Scalar Multiplication.mp4\n",
      "D:\\Downloader\\Machine Learning (Coursera)\\Lecture 3.3 - Linear Algebra Review - Matrix Vector Multiplication.mp4\n",
      "D:\\Downloader\\Machine Learning (Coursera)\\Lecture 3.4 - Linear Algebra Review -  Matrix-Matrix Multiplication.mp4\n",
      "D:\\Downloader\\Machine Learning (Coursera)\\Lecture 3.5 - Linear Algebra Review - Matrix Multiplication Properties.mp4\n",
      "D:\\Downloader\\Machine Learning (Coursera)\\Lecture 3.6 - Linear Algebra Review -  Inverse And Transpose.mp4\n",
      "D:\\Downloader\\Machine Learning (Coursera)\\Lecture 4.1 - Linear Regression With Multiple Variables - (Multiple Features).mp4\n",
      "D:\\Downloader\\Machine Learning (Coursera)\\Lecture 4.2 - Linear Regression With Multiple Variables - (Gradient Descent For Multiple Variables).mp4\n",
      "D:\\Downloader\\Machine Learning (Coursera)\\Lecture 4.3 - Linear Regression With Multiple Variables - Gradient In PracticeaI Feature Scaling.mp4\n",
      "D:\\Downloader\\Machine Learning (Coursera)\\Lecture 4.4 - Linear Regression With Multiple Variables - Gradient In PracticeaI - Learning Rate.mp4\n",
      "D:\\Downloader\\Machine Learning (Coursera)\\Lecture 4.5 - Linear Regression With Multiple Variables - Features And Polynomial Regression.mp4\n",
      "D:\\Downloader\\Machine Learning (Coursera)\\Lecture 4.6 - Linear Regression With Multiple Variables - Normal Equation.mp4\n",
      "D:\\Downloader\\Machine Learning (Coursera)\\Lecture 4.7 - Linear Regression With Multiple Variables - Normal Equation Non Invertibility.mp4\n",
      "D:\\Downloader\\Machine Learning (Coursera)\\Lecture 5.1 -  Octave Tutorial - Basic Operations.mp4\n",
      "D:\\Downloader\\Machine Learning (Coursera)\\Lecture 5.2 -  Octave Tutorial - Moving Data Around.mp4\n",
      "D:\\Downloader\\Machine Learning (Coursera)\\Lecture 5.3 -  Octave Tutorial - Computing On Data.mp4\n",
      "D:\\Downloader\\Machine Learning (Coursera)\\Lecture 5.4 -  Octave Tutorial -  Plotting Data.mp4\n",
      "D:\\Downloader\\Machine Learning (Coursera)\\Lecture 5.5 -  Octave Tutorial - While If Statements And Functions.mp4\n",
      "D:\\Downloader\\Machine Learning (Coursera)\\Lecture 5.6 -  Octave Tutorial -  Vectorization.mp4\n",
      "D:\\Downloader\\Machine Learning (Coursera)\\Lecture 5.7 -  Octave Tutorial - Programming Exercises.mp4\n",
      "D:\\Downloader\\Machine Learning (Coursera)\\Lecture 6.1 - Logistic Regression - Classification - .mp4\n",
      "D:\\Downloader\\Machine Learning (Coursera)\\Lecture 6.2 - Logistic Regression - Hypothesis Representation.mp4\n",
      "D:\\Downloader\\Machine Learning (Coursera)\\Lecture 6.3 - Logistic Regression - Decision Boundary.mp4\n",
      "D:\\Downloader\\Machine Learning (Coursera)\\Lecture 6.4 - Logistic Regression - Cost Function.mp4\n",
      "D:\\Downloader\\Machine Learning (Coursera)\\Lecture 6.5 - Logistic Regression - Simplified Cost Function And Gradient Descent.mp4\n",
      "D:\\Downloader\\Machine Learning (Coursera)\\Lecture 6.6 - Logistic Regression - Advanced Optimization.mp4\n",
      "D:\\Downloader\\Machine Learning (Coursera)\\Lecture 6.7 - Logistic Regression - MultiClass Classification OneVsAll.mp4\n",
      "D:\\Downloader\\Machine Learning (Coursera)\\Lecture 7.1 - Regularization - The Problem Of Overfitting.mp4\n",
      "D:\\Downloader\\Machine Learning (Coursera)\\Lecture 7.2 - Regularization - Cost Function.mp4\n",
      "D:\\Downloader\\Machine Learning (Coursera)\\Lecture 7.3 - Regularization - Regularized Linear Regression.mp4\n",
      "D:\\Downloader\\Machine Learning (Coursera)\\Lecture 7.4 - Regularization - Regularized Logistic Regression.mp4\n",
      "D:\\Downloader\\Machine Learning (Coursera)\\Lecture 8.1 - Neural Networks Representation - Non Linear Hypotheses.mp4\n",
      "D:\\Downloader\\Machine Learning (Coursera)\\Lecture 8.2 - Neural Networks Representation - Neurons And The Brain.mp4\n",
      "D:\\Downloader\\Machine Learning (Coursera)\\Lecture 8.3 - Neural Networks Representation - Model Representation-I.mp4\n",
      "D:\\Downloader\\Machine Learning (Coursera)\\Lecture 8.4 - Neural Networks Representation - Model Representation-II.mp4\n",
      "D:\\Downloader\\Machine Learning (Coursera)\\Lecture 8.5 - Neural Networks Representation - Examples And Intuitions-I.mp4\n",
      "D:\\Downloader\\Machine Learning (Coursera)\\Lecture 8.6 - Neural Networks Representation - Examples And Intuitions-II.mp4\n",
      "D:\\Downloader\\Machine Learning (Coursera)\\Lecture 8.7 - Neural Networks Representation - MultiClass Classification.mp4\n",
      "D:\\Downloader\\Machine Learning (Coursera)\\Lecture 9.1 - Neural Networks Learning - Cost Function.mp4\n",
      "D:\\Downloader\\Machine Learning (Coursera)\\Lecture 9.2 - Neural Networks Learning - Backpropagation Algorithm.mp4\n",
      "D:\\Downloader\\Machine Learning (Coursera)\\Lecture 9.3 - Neural Networks Learning - Backpropagation Intuition.mp4\n",
      "D:\\Downloader\\Machine Learning (Coursera)\\Lecture 9.4 - Neural Networks Learning - Implementation Note Unrolling Parameters.mp4\n",
      "D:\\Downloader\\Machine Learning (Coursera)\\Lecture 9.5 - Neural Networks Learning - Gradient Checking.mp4\n",
      "D:\\Downloader\\Machine Learning (Coursera)\\Lecture 9.6 - Neural Networks Learning - Random Initialization.mp4\n",
      "D:\\Downloader\\Machine Learning (Coursera)\\Lecture 9.7 - Neural Networks Learning - Putting It Together.mp4\n",
      "D:\\Downloader\\Machine Learning (Coursera)\\Lecture 9.8 - Neural Networks Learning - Autonomous Driving Example.mp4\n"
     ]
    }
   ],
   "source": [
    "for path in paths:\n",
    "    print(path)\n",
    "    newname1 = path.replace(' _ ', ' - ')\n",
    "    if newname1 != path:\n",
    "        os.rename(path, newname1)\n"
   ]
  },
  {
   "cell_type": "code",
   "execution_count": 74,
   "metadata": {},
   "outputs": [
    {
     "ename": "NameError",
     "evalue": "name 'filename' is not defined",
     "output_type": "error",
     "traceback": [
      "\u001b[1;31m---------------------------------------------------------------------------\u001b[0m",
      "\u001b[1;31mNameError\u001b[0m                                 Traceback (most recent call last)",
      "\u001b[1;32m<ipython-input-74-c990ad986801>\u001b[0m in \u001b[0;36m<module>\u001b[1;34m()\u001b[0m\n\u001b[1;32m----> 1\u001b[1;33m \u001b[0mprint\u001b[0m\u001b[1;33m(\u001b[0m\u001b[0mfilename\u001b[0m\u001b[1;33m)\u001b[0m\u001b[1;33m\u001b[0m\u001b[0m\n\u001b[0m",
      "\u001b[1;31mNameError\u001b[0m: name 'filename' is not defined"
     ]
    }
   ],
   "source": [
    "print(filename)"
   ]
  },
  {
   "cell_type": "code",
   "execution_count": null,
   "metadata": {
    "collapsed": true
   },
   "outputs": [],
   "source": []
  }
 ],
 "metadata": {
  "kernelspec": {
   "display_name": "Python 3",
   "language": "python",
   "name": "python3"
  },
  "language_info": {
   "codemirror_mode": {
    "name": "ipython",
    "version": 3
   },
   "file_extension": ".py",
   "mimetype": "text/x-python",
   "name": "python",
   "nbconvert_exporter": "python",
   "pygments_lexer": "ipython3",
   "version": "3.6.3"
  }
 },
 "nbformat": 4,
 "nbformat_minor": 2
}
